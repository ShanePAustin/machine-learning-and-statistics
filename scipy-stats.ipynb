{
 "cells": [
  {
   "cell_type": "markdown",
   "metadata": {},
   "source": [
    "## Machine Learning and Statistics, Winter 21/22"
   ]
  },
  {
   "cell_type": "markdown",
   "metadata": {},
   "source": [
    "#### Overview of the scipy.stats Python library\n",
    "\n",
    "* A clear and concise overview of the scipy.stats Python library.\n",
    "* An example hypothesis test using ANOVA. You should find a data set on which it is appropriate to use ANOVA, ensure the assumptions underlying ANOVA are met, and then perform and display the results of your ANOVA using scipy.stats."
   ]
  },
  {
   "cell_type": "markdown",
   "metadata": {},
   "source": [
    "![image](https://www.fullstackpython.com/img/logos/scipy.png)"
   ]
  },
  {
   "cell_type": "markdown",
   "metadata": {},
   "source": [
    "## Table of Contents:\n",
    "\n",
    "1. [Introduction](#introduction)\n",
    "    * [SciPy](#sp)\n",
    "    * [SciPy Stats](#ss)\n",
    "    * [ANOVA](#a)\n",
    "    \n",
    " \n",
    "2. [Setup](#setup)\n",
    "    * [Dataset](#d)\n",
    "    * [Assumptions](#a)\n",
    "    \n",
    "    \n",
    "3. [Testing](#t)\n",
    "    * [Logistic Regression](#lr)\n",
    "    * [Support Vector Machines](#svm)\n",
    "    * [K-Means Clustering](#kmc)\n",
    "    \n",
    "    \n",
    "4. [References](#ref)"
   ]
  },
  {
   "cell_type": "markdown",
   "metadata": {},
   "source": [
    "# Introduction <a name=\"introduction\"></a>"
   ]
  },
  {
   "cell_type": "markdown",
   "metadata": {},
   "source": [
    "## SciPy <a name=\"sp\"></a>\n",
    "[Official Documentation](https://docs.scipy.org/doc/scipy/reference/tutorial/general.html)\n",
    "\n"
   ]
  },
  {
   "cell_type": "markdown",
   "metadata": {},
   "source": [
    "\"SciPy is a collection of mathematical algorithms and convenience functions built on the NumPy extension of Python. It adds significant power to the interactive Python session by providing the user with high-level commands and classes for manipulating and visualizing data.\" [1](https://scipy.github.io/devdocs/tutorial/general.html)\n",
    "\n",
    "SciPy stands for Scientific Python and was created by Travis Olliphant the creator of NumPy, and  it provides functions for optimization, statistics and signal processing. It is primarily written in Python with some elements in C, it is an open source library located in this github repository. [SciPy](https://github.com/scipy/scipy)"
   ]
  },
  {
   "cell_type": "markdown",
   "metadata": {},
   "source": [
    "SciPy is organized into subpackages that specialise in different scientifc areas listed below:\n",
    "\n",
    "* ```cluster``` - Clustering algorithms\n",
    "* ```constants``` - Physical and mathematical constants\n",
    "* ```fftpack``` - Fast Fourier Transform routines\n",
    "* ```integrate``` - Integration and ordinary differential equation solvers\n",
    "* ```interpolate``` - Interpolation and smoothing splines\n",
    "* ```io``` - Input and Output\n",
    "* ```linalg``` - Linear algebra\n",
    "* ```ndimage``` - N-dimensional image processing\n",
    "* ```odr``` - Orthogonal distance regression\n",
    "* ```optimize``` - Optimization and root-finding routines\n",
    "* ```signal``` - Signal processing\n",
    "* ```sparse``` - Sparse matrices and associated routines\n",
    "* ```spatial``` - Spatial data structures and algorithms\n",
    "* ```special``` - Special functions\n",
    "* ```stats``` - Statistical distributions and functions\n",
    "\n",
    "This notebook will focus on the ```scipy.stats``` statistical functions package."
   ]
  },
  {
   "cell_type": "markdown",
   "metadata": {},
   "source": [
    "## SciPy Stats <a name=\"ss\"></a>\n",
    "[Official Documentation](https://docs.scipy.org/doc/scipy/reference/stats.html)"
   ]
  },
  {
   "cell_type": "markdown",
   "metadata": {},
   "source": [
    "The ```scipy.stats``` module contains a large number of probability distributions, summary and frequency statistics, correlation functions and statistical tests, masked statistics, kernel density estimation, quasi-Monte Carlo functionality, and more. [2](https://docs.scipy.org/doc/scipy/reference/stats.html). They are categorized into these subheadings that are available within the package. \n",
    "\n",
    "* Continuous distributions\n",
    "* Multivariate distributions\n",
    "* Discrete distributions\n",
    "* Summary statistics\n",
    "* Frequency statistics\n",
    "* Correlation functions\n",
    "* Statistical tests\n",
    "* Transformations\n",
    "* Statistical distances\n",
    "* Random variate generation\n",
    "* Circular statistical functions\n",
    "* Contingency table functions\n",
    "* Plot-tests\n",
    "* Masked statistics functions\n",
    "* Univariate and multivariate kernel density estimation\n",
    "\n",
    "Examples of some of the functions are described below:"
   ]
  },
  {
   "cell_type": "markdown",
   "metadata": {},
   "source": [
    "### Libraries <a name=\"l\"></a>"
   ]
  },
  {
   "cell_type": "code",
   "execution_count": 1,
   "metadata": {},
   "outputs": [],
   "source": [
    "#Working with arrays\n",
    "import numpy as np\n",
    "#Dataframes\n",
    "import pandas as pd\n",
    "\n",
    "#2 libraries for plotting\n",
    "import matplotlib.pyplot as plt\n",
    "import seaborn as sns\n",
    "\n",
    "#Alternative Stats package\n",
    "import statsmodels.stats.weightstats as stat\n",
    "\n",
    "#Main stats package\n",
    "import scipy.stats as ss"
   ]
  },
  {
   "cell_type": "code",
   "execution_count": 2,
   "metadata": {},
   "outputs": [],
   "source": [
    "#plot styles\n",
    "plt.style.use('seaborn')\n",
    "\n",
    "#default plot size\n",
    "plt.rcParams['figure.figsize'] = [8, 8]"
   ]
  },
  {
   "cell_type": "markdown",
   "metadata": {},
   "source": []
  },
  {
   "cell_type": "markdown",
   "metadata": {},
   "source": []
  },
  {
   "cell_type": "markdown",
   "metadata": {},
   "source": []
  },
  {
   "cell_type": "code",
   "execution_count": null,
   "metadata": {},
   "outputs": [],
   "source": []
  },
  {
   "cell_type": "markdown",
   "metadata": {},
   "source": []
  },
  {
   "cell_type": "code",
   "execution_count": null,
   "metadata": {},
   "outputs": [],
   "source": []
  },
  {
   "cell_type": "markdown",
   "metadata": {},
   "source": []
  },
  {
   "cell_type": "code",
   "execution_count": null,
   "metadata": {},
   "outputs": [],
   "source": []
  },
  {
   "cell_type": "code",
   "execution_count": null,
   "metadata": {},
   "outputs": [],
   "source": []
  },
  {
   "cell_type": "markdown",
   "metadata": {},
   "source": []
  },
  {
   "cell_type": "markdown",
   "metadata": {},
   "source": []
  },
  {
   "cell_type": "code",
   "execution_count": null,
   "metadata": {},
   "outputs": [],
   "source": []
  },
  {
   "cell_type": "markdown",
   "metadata": {},
   "source": []
  },
  {
   "cell_type": "code",
   "execution_count": null,
   "metadata": {},
   "outputs": [],
   "source": []
  },
  {
   "cell_type": "code",
   "execution_count": null,
   "metadata": {},
   "outputs": [],
   "source": []
  },
  {
   "cell_type": "markdown",
   "metadata": {},
   "source": []
  },
  {
   "cell_type": "markdown",
   "metadata": {},
   "source": []
  },
  {
   "cell_type": "code",
   "execution_count": null,
   "metadata": {},
   "outputs": [],
   "source": []
  },
  {
   "cell_type": "code",
   "execution_count": null,
   "metadata": {
    "scrolled": true
   },
   "outputs": [],
   "source": []
  },
  {
   "cell_type": "code",
   "execution_count": null,
   "metadata": {
    "scrolled": true
   },
   "outputs": [],
   "source": []
  },
  {
   "cell_type": "code",
   "execution_count": null,
   "metadata": {
    "scrolled": true
   },
   "outputs": [],
   "source": []
  },
  {
   "cell_type": "code",
   "execution_count": null,
   "metadata": {},
   "outputs": [],
   "source": []
  },
  {
   "cell_type": "code",
   "execution_count": null,
   "metadata": {},
   "outputs": [],
   "source": []
  },
  {
   "cell_type": "code",
   "execution_count": null,
   "metadata": {},
   "outputs": [],
   "source": []
  },
  {
   "cell_type": "code",
   "execution_count": null,
   "metadata": {},
   "outputs": [],
   "source": []
  },
  {
   "cell_type": "code",
   "execution_count": null,
   "metadata": {},
   "outputs": [],
   "source": []
  },
  {
   "cell_type": "code",
   "execution_count": null,
   "metadata": {},
   "outputs": [],
   "source": []
  },
  {
   "cell_type": "code",
   "execution_count": null,
   "metadata": {},
   "outputs": [],
   "source": []
  },
  {
   "cell_type": "code",
   "execution_count": null,
   "metadata": {},
   "outputs": [],
   "source": []
  },
  {
   "cell_type": "code",
   "execution_count": null,
   "metadata": {},
   "outputs": [],
   "source": []
  },
  {
   "cell_type": "code",
   "execution_count": null,
   "metadata": {},
   "outputs": [],
   "source": []
  },
  {
   "cell_type": "code",
   "execution_count": null,
   "metadata": {},
   "outputs": [],
   "source": []
  }
 ],
 "metadata": {
  "kernelspec": {
   "display_name": "Python 3",
   "language": "python",
   "name": "python3"
  },
  "language_info": {
   "codemirror_mode": {
    "name": "ipython",
    "version": 3
   },
   "file_extension": ".py",
   "mimetype": "text/x-python",
   "name": "python",
   "nbconvert_exporter": "python",
   "pygments_lexer": "ipython3",
   "version": "3.8.5"
  }
 },
 "nbformat": 4,
 "nbformat_minor": 4
}
